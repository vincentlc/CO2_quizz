{
 "cells": [
  {
   "cell_type": "code",
   "execution_count": 1,
   "id": "1c8a43af",
   "metadata": {},
   "outputs": [],
   "source": [
    "import requests\n",
    "import pandas as pd\n",
    "import seaborn as sns"
   ]
  },
  {
   "cell_type": "code",
   "execution_count": 2,
   "id": "03a50561",
   "metadata": {},
   "outputs": [],
   "source": [
    "base_url = \"https://impactco2.fr/api/v1\""
   ]
  },
  {
   "cell_type": "markdown",
   "id": "645f10aa",
   "metadata": {},
   "source": [
    "# get categories"
   ]
  },
  {
   "cell_type": "code",
   "execution_count": 3,
   "id": "ff4bd7e1",
   "metadata": {},
   "outputs": [],
   "source": [
    "url = base_url + \"/thematiques\"\n",
    "response = requests.get(url)\n",
    "assert response.status_code == 200"
   ]
  },
  {
   "cell_type": "code",
   "execution_count": 4,
   "id": "427e9c6c",
   "metadata": {},
   "outputs": [
    {
     "data": {
      "text/plain": [
       "{'data': [{'id': 1, 'name': 'Numérique', 'emoji': '💻', 'slug': 'numerique'},\n",
       "  {'id': 2, 'name': 'Repas', 'emoji': '🍽', 'slug': 'repas'},\n",
       "  {'id': 3, 'name': 'Boisson', 'emoji': '🍹', 'slug': 'boisson'},\n",
       "  {'id': 4, 'name': 'Transport', 'emoji': '🚴\\u200d♂️', 'slug': 'transport'},\n",
       "  {'id': 5, 'name': 'Habillement', 'emoji': '👔', 'slug': 'habillement'},\n",
       "  {'id': 6, 'name': 'Électroménager', 'emoji': '🛁', 'slug': 'electromenager'},\n",
       "  {'id': 7, 'name': 'Mobilier', 'emoji': '🪑', 'slug': 'mobilier'},\n",
       "  {'id': 8, 'name': 'Chauffage', 'emoji': '🏠', 'slug': 'chauffage'},\n",
       "  {'id': 9,\n",
       "   'name': 'Fruits et légumes',\n",
       "   'emoji': '🍅',\n",
       "   'slug': 'fruitsetlegumes'},\n",
       "  {'id': 10,\n",
       "   'name': 'Usage numérique',\n",
       "   'emoji': '✉️',\n",
       "   'slug': 'usagenumerique'}],\n",
       " 'warning': \"La requete n'est pas authentifée. Nous nous reservons le droit de couper cette API aux utilisateurs anonymes, veuillez nous contacter à impactco2@ademe.fr pour obtenir une clé d'API gratuite.\"}"
      ]
     },
     "execution_count": 4,
     "metadata": {},
     "output_type": "execute_result"
    }
   ],
   "source": [
    "#raw response\n",
    "response.json()"
   ]
  },
  {
   "cell_type": "code",
   "execution_count": 5,
   "id": "7a304c91",
   "metadata": {},
   "outputs": [
    {
     "name": "stdout",
     "output_type": "stream",
     "text": [
      "💻 Numérique\n",
      "🍽 Repas\n",
      "🍹 Boisson\n",
      "🚴‍♂️ Transport\n",
      "👔 Habillement\n",
      "🛁 Électroménager\n",
      "🪑 Mobilier\n",
      "🏠 Chauffage\n",
      "🍅 Fruits et légumes\n",
      "✉️ Usage numérique\n"
     ]
    }
   ],
   "source": [
    "#list categories\n",
    "main_categories = response.json().get(\"data\")\n",
    "for main_category in main_categories:\n",
    "    print(\" \".join([main_category.get(\"emoji\",\"\"),main_category.get(\"name\", \"\")]))"
   ]
  },
  {
   "cell_type": "markdown",
   "id": "08c8014c",
   "metadata": {},
   "source": [
    "# get CO2 footprint by category"
   ]
  },
  {
   "cell_type": "code",
   "execution_count": 6,
   "id": "6ec13383",
   "metadata": {},
   "outputs": [],
   "source": [
    "url = base_url + \"/thematiques/ecv\"\n",
    "\n",
    "dfs = []\n",
    "for main_category in main_categories:\n",
    "    #one API call per category\n",
    "    response = requests.get(\"/\".join([url, main_category.get(\"slug\")]))\n",
    "    assert response.status_code == 200\n",
    "    data = response.json().get(\"data\", [])\n",
    "    #store the results in a pandas dataframe\n",
    "    df = pd.DataFrame(data)\n",
    "    df[\"category\"] = main_category.get(\"name\", \"\")\n",
    "    dfs.append(df)"
   ]
  },
  {
   "cell_type": "code",
   "execution_count": 7,
   "id": "4a736993",
   "metadata": {},
   "outputs": [
    {
     "data": {
      "text/html": [
       "<div>\n",
       "<style scoped>\n",
       "    .dataframe tbody tr th:only-of-type {\n",
       "        vertical-align: middle;\n",
       "    }\n",
       "\n",
       "    .dataframe tbody tr th {\n",
       "        vertical-align: top;\n",
       "    }\n",
       "\n",
       "    .dataframe thead th {\n",
       "        text-align: right;\n",
       "    }\n",
       "</style>\n",
       "<table border=\"1\" class=\"dataframe\">\n",
       "  <thead>\n",
       "    <tr style=\"text-align: right;\">\n",
       "      <th></th>\n",
       "      <th>name</th>\n",
       "      <th>slug</th>\n",
       "      <th>ecv</th>\n",
       "      <th>category</th>\n",
       "    </tr>\n",
       "  </thead>\n",
       "  <tbody>\n",
       "    <tr>\n",
       "      <th>0</th>\n",
       "      <td>Smartphone[s]</td>\n",
       "      <td>smartphone</td>\n",
       "      <td>37.785717</td>\n",
       "      <td>Numérique</td>\n",
       "    </tr>\n",
       "    <tr>\n",
       "      <th>1</th>\n",
       "      <td>Ordinateur[s] fixe[s] sans écran</td>\n",
       "      <td>ordinateurfixebureautique</td>\n",
       "      <td>188.972150</td>\n",
       "      <td>Numérique</td>\n",
       "    </tr>\n",
       "    <tr>\n",
       "      <th>2</th>\n",
       "      <td>Ordinateur[s] fixe[s] sans écran</td>\n",
       "      <td>ordinateurfixeperformance</td>\n",
       "      <td>394.228398</td>\n",
       "      <td>Numérique</td>\n",
       "    </tr>\n",
       "    <tr>\n",
       "      <th>3</th>\n",
       "      <td>Écran[s]</td>\n",
       "      <td>ecran215pouces</td>\n",
       "      <td>236.400579</td>\n",
       "      <td>Numérique</td>\n",
       "    </tr>\n",
       "    <tr>\n",
       "      <th>4</th>\n",
       "      <td>Écran[s]</td>\n",
       "      <td>ecran24pouces</td>\n",
       "      <td>263.270579</td>\n",
       "      <td>Numérique</td>\n",
       "    </tr>\n",
       "    <tr>\n",
       "      <th>...</th>\n",
       "      <td>...</td>\n",
       "      <td>...</td>\n",
       "      <td>...</td>\n",
       "      <td>...</td>\n",
       "    </tr>\n",
       "    <tr>\n",
       "      <th>177</th>\n",
       "      <td>Stocker un Go de donnée</td>\n",
       "      <td>stockagedonnee</td>\n",
       "      <td>0.000235</td>\n",
       "      <td>Usage numérique</td>\n",
       "    </tr>\n",
       "    <tr>\n",
       "      <th>178</th>\n",
       "      <td>Recherche[s] sur le web</td>\n",
       "      <td>rechercheweb</td>\n",
       "      <td>0.051042</td>\n",
       "      <td>Usage numérique</td>\n",
       "    </tr>\n",
       "    <tr>\n",
       "      <th>179</th>\n",
       "      <td>Streaming vidéo</td>\n",
       "      <td>streamingvideo</td>\n",
       "      <td>0.064017</td>\n",
       "      <td>Usage numérique</td>\n",
       "    </tr>\n",
       "    <tr>\n",
       "      <th>180</th>\n",
       "      <td>Visioconférence</td>\n",
       "      <td>visioconference</td>\n",
       "      <td>0.057063</td>\n",
       "      <td>Usage numérique</td>\n",
       "    </tr>\n",
       "    <tr>\n",
       "      <th>181</th>\n",
       "      <td>Go de donnée</td>\n",
       "      <td>telechargement</td>\n",
       "      <td>0.009505</td>\n",
       "      <td>Usage numérique</td>\n",
       "    </tr>\n",
       "  </tbody>\n",
       "</table>\n",
       "<p>182 rows × 4 columns</p>\n",
       "</div>"
      ],
      "text/plain": [
       "                                 name                       slug         ecv  \\\n",
       "0                       Smartphone[s]                 smartphone   37.785717   \n",
       "1    Ordinateur[s] fixe[s] sans écran  ordinateurfixebureautique  188.972150   \n",
       "2    Ordinateur[s] fixe[s] sans écran  ordinateurfixeperformance  394.228398   \n",
       "3                            Écran[s]             ecran215pouces  236.400579   \n",
       "4                            Écran[s]              ecran24pouces  263.270579   \n",
       "..                                ...                        ...         ...   \n",
       "177           Stocker un Go de donnée             stockagedonnee    0.000235   \n",
       "178           Recherche[s] sur le web               rechercheweb    0.051042   \n",
       "179                   Streaming vidéo             streamingvideo    0.064017   \n",
       "180                   Visioconférence            visioconference    0.057063   \n",
       "181                      Go de donnée             telechargement    0.009505   \n",
       "\n",
       "            category  \n",
       "0          Numérique  \n",
       "1          Numérique  \n",
       "2          Numérique  \n",
       "3          Numérique  \n",
       "4          Numérique  \n",
       "..               ...  \n",
       "177  Usage numérique  \n",
       "178  Usage numérique  \n",
       "179  Usage numérique  \n",
       "180  Usage numérique  \n",
       "181  Usage numérique  \n",
       "\n",
       "[182 rows x 4 columns]"
      ]
     },
     "execution_count": 7,
     "metadata": {},
     "output_type": "execute_result"
    }
   ],
   "source": [
    "#concatenate all dataframes into one\n",
    "df = pd.concat(dfs).reset_index().drop(columns=\"index\")\n",
    "df"
   ]
  },
  {
   "cell_type": "markdown",
   "id": "0b35138f",
   "metadata": {},
   "source": [
    "# display top 10 CO2 footprints"
   ]
  },
  {
   "cell_type": "code",
   "execution_count": 8,
   "id": "0bd97d44",
   "metadata": {},
   "outputs": [
    {
     "data": {
      "text/html": [
       "<div>\n",
       "<style scoped>\n",
       "    .dataframe tbody tr th:only-of-type {\n",
       "        vertical-align: middle;\n",
       "    }\n",
       "\n",
       "    .dataframe tbody tr th {\n",
       "        vertical-align: top;\n",
       "    }\n",
       "\n",
       "    .dataframe thead th {\n",
       "        text-align: right;\n",
       "    }\n",
       "</style>\n",
       "<table border=\"1\" class=\"dataframe\">\n",
       "  <thead>\n",
       "    <tr style=\"text-align: right;\">\n",
       "      <th></th>\n",
       "      <th>name</th>\n",
       "      <th>slug</th>\n",
       "      <th>ecv</th>\n",
       "      <th>category</th>\n",
       "    </tr>\n",
       "  </thead>\n",
       "  <tbody>\n",
       "    <tr>\n",
       "      <th>57</th>\n",
       "      <td>Paris - New-York</td>\n",
       "      <td>avion-pny</td>\n",
       "      <td>1770.000000</td>\n",
       "      <td>Transport</td>\n",
       "    </tr>\n",
       "    <tr>\n",
       "      <th>91</th>\n",
       "      <td>Armoire</td>\n",
       "      <td>armoire</td>\n",
       "      <td>906.880000</td>\n",
       "      <td>Mobilier</td>\n",
       "    </tr>\n",
       "    <tr>\n",
       "      <th>83</th>\n",
       "      <td>Lave-linge</td>\n",
       "      <td>lavelinge</td>\n",
       "      <td>510.257258</td>\n",
       "      <td>Électroménager</td>\n",
       "    </tr>\n",
       "    <tr>\n",
       "      <th>82</th>\n",
       "      <td>Lave-vaisselle</td>\n",
       "      <td>lavevaisselle</td>\n",
       "      <td>467.998218</td>\n",
       "      <td>Électroménager</td>\n",
       "    </tr>\n",
       "    <tr>\n",
       "      <th>92</th>\n",
       "      <td>Lit</td>\n",
       "      <td>lit</td>\n",
       "      <td>443.810000</td>\n",
       "      <td>Mobilier</td>\n",
       "    </tr>\n",
       "    <tr>\n",
       "      <th>10</th>\n",
       "      <td>Télévision[s]</td>\n",
       "      <td>television</td>\n",
       "      <td>425.153496</td>\n",
       "      <td>Numérique</td>\n",
       "    </tr>\n",
       "    <tr>\n",
       "      <th>86</th>\n",
       "      <td>Climatiseur[s]</td>\n",
       "      <td>climatiseur</td>\n",
       "      <td>413.881288</td>\n",
       "      <td>Électroménager</td>\n",
       "    </tr>\n",
       "    <tr>\n",
       "      <th>2</th>\n",
       "      <td>Ordinateur[s] fixe[s] sans écran</td>\n",
       "      <td>ordinateurfixeperformance</td>\n",
       "      <td>394.228398</td>\n",
       "      <td>Numérique</td>\n",
       "    </tr>\n",
       "    <tr>\n",
       "      <th>84</th>\n",
       "      <td>Réfrigérateur</td>\n",
       "      <td>refrigirateur</td>\n",
       "      <td>325.460716</td>\n",
       "      <td>Électroménager</td>\n",
       "    </tr>\n",
       "    <tr>\n",
       "      <th>4</th>\n",
       "      <td>Écran[s]</td>\n",
       "      <td>ecran24pouces</td>\n",
       "      <td>263.270579</td>\n",
       "      <td>Numérique</td>\n",
       "    </tr>\n",
       "  </tbody>\n",
       "</table>\n",
       "</div>"
      ],
      "text/plain": [
       "                                name                       slug          ecv  \\\n",
       "57                  Paris - New-York                  avion-pny  1770.000000   \n",
       "91                           Armoire                    armoire   906.880000   \n",
       "83                        Lave-linge                  lavelinge   510.257258   \n",
       "82                    Lave-vaisselle              lavevaisselle   467.998218   \n",
       "92                               Lit                        lit   443.810000   \n",
       "10                    Télévision[s]                  television   425.153496   \n",
       "86                    Climatiseur[s]                climatiseur   413.881288   \n",
       "2   Ordinateur[s] fixe[s] sans écran  ordinateurfixeperformance   394.228398   \n",
       "84                     Réfrigérateur              refrigirateur   325.460716   \n",
       "4                           Écran[s]              ecran24pouces   263.270579   \n",
       "\n",
       "          category  \n",
       "57       Transport  \n",
       "91        Mobilier  \n",
       "83  Électroménager  \n",
       "82  Électroménager  \n",
       "92        Mobilier  \n",
       "10       Numérique  \n",
       "86  Électroménager  \n",
       "2        Numérique  \n",
       "84  Électroménager  \n",
       "4        Numérique  "
      ]
     },
     "execution_count": 8,
     "metadata": {},
     "output_type": "execute_result"
    }
   ],
   "source": [
    "#display highest CO2 footprints\n",
    "df.sort_values(by=\"ecv\", ascending=False).head(10)"
   ]
  },
  {
   "cell_type": "code",
   "execution_count": 9,
   "id": "dd1b1564",
   "metadata": {},
   "outputs": [
    {
     "data": {
      "image/png": "[encoded data removed]",
      "text/plain": [
       "<Figure size 432x288 with 1 Axes>"
      ]
     },
     "metadata": {
      "needs_background": "light"
     },
     "output_type": "display_data"
    }
   ],
   "source": [
    "sns.barplot(data=df.sort_values(by=\"ecv\", ascending=False).head(10), y=\"name\", x=\"ecv\", palette=\"dark:blue\");"
   ]
  }
 ],
 "metadata": {
  "kernelspec": {
   "display_name": "Python 3 (ipykernel)",
   "language": "python",
   "name": "python3"
  },
  "language_info": {
   "codemirror_mode": {
    "name": "ipython",
    "version": 3
   },
   "file_extension": ".py",
   "mimetype": "text/x-python",
   "name": "python",
   "nbconvert_exporter": "python",
   "pygments_lexer": "ipython3",
   "version": "3.8.12"
  },
  "toc": {
   "base_numbering": 1,
   "nav_menu": {},
   "number_sections": true,
   "sideBar": true,
   "skip_h1_title": false,
   "title_cell": "Table of Contents",
   "title_sidebar": "Contents",
   "toc_cell": false,
   "toc_position": {},
   "toc_section_display": true,
   "toc_window_display": false
  },
  "varInspector": {
   "cols": {
    "lenName": 16,
    "lenType": 16,
    "lenVar": 40
   },
   "kernels_config": {
    "python": {
     "delete_cmd_postfix": "",
     "delete_cmd_prefix": "del ",
     "library": "var_list.py",
     "varRefreshCmd": "print(var_dic_list())"
    },
    "r": {
     "delete_cmd_postfix": ") ",
     "delete_cmd_prefix": "rm(",
     "library": "var_list.r",
     "varRefreshCmd": "cat(var_dic_list()) "
    }
   },
   "types_to_exclude": [
    "module",
    "function",
    "builtin_function_or_method",
    "instance",
    "_Feature"
   ],
   "window_display": false
  }
 },
 "nbformat": 4,
 "nbformat_minor": 5
}
