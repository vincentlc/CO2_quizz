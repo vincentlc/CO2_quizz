{
 "cells": [
  {
   "cell_type": "code",
   "execution_count": 1,
   "id": "1c8a43af",
   "metadata": {},
   "outputs": [],
   "source": [
    "import requests"
   ]
  },
  {
   "cell_type": "code",
   "execution_count": 2,
   "id": "03a50561",
   "metadata": {},
   "outputs": [],
   "source": [
    "base_url = \"https://impactco2.fr/api/v1\""
   ]
  },
  {
   "cell_type": "markdown",
   "id": "645f10aa",
   "metadata": {},
   "source": [
    "# get categories"
   ]
  },
  {
   "cell_type": "code",
   "execution_count": 3,
   "id": "ff4bd7e1",
   "metadata": {},
   "outputs": [],
   "source": [
    "url = base_url + \"/thematiques\"\n",
    "response = requests.get(url)\n",
    "assert response.status_code == 200"
   ]
  },
  {
   "cell_type": "code",
   "execution_count": 4,
   "id": "427e9c6c",
   "metadata": {},
   "outputs": [
    {
     "data": {
      "text/plain": [
       "{'data': [{'id': 1, 'name': 'Numérique', 'emoji': '💻', 'slug': 'numerique'},\n",
       "  {'id': 2, 'name': 'Repas', 'emoji': '🍽', 'slug': 'repas'},\n",
       "  {'id': 3, 'name': 'Boisson', 'emoji': '🍹', 'slug': 'boisson'},\n",
       "  {'id': 4, 'name': 'Transport', 'emoji': '🚴\\u200d♂️', 'slug': 'transport'},\n",
       "  {'id': 5, 'name': 'Habillement', 'emoji': '👔', 'slug': 'habillement'},\n",
       "  {'id': 6, 'name': 'Électroménager', 'emoji': '🛁', 'slug': 'electromenager'},\n",
       "  {'id': 7, 'name': 'Mobilier', 'emoji': '🪑', 'slug': 'mobilier'},\n",
       "  {'id': 8, 'name': 'Chauffage', 'emoji': '🏠', 'slug': 'chauffage'},\n",
       "  {'id': 9,\n",
       "   'name': 'Fruits et légumes',\n",
       "   'emoji': '🍅',\n",
       "   'slug': 'fruitsetlegumes'},\n",
       "  {'id': 10,\n",
       "   'name': 'Usage numérique',\n",
       "   'emoji': '✉️',\n",
       "   'slug': 'usagenumerique'},\n",
       "  {'id': 11, 'name': 'Divers', 'emoji': '⚙️', 'slug': 'divers'}],\n",
       " 'warning': \"La requete n'est pas authentifée. Nous nous reservons le droit de couper cette API aux utilisateurs anonymes, veuillez nous contacter à impactco2@ademe.fr pour obtenir une clé d'API gratuite.\"}"
      ]
     },
     "execution_count": 4,
     "metadata": {},
     "output_type": "execute_result"
    }
   ],
   "source": [
    "#raw response\n",
    "response.json()"
   ]
  },
  {
   "cell_type": "code",
   "execution_count": 5,
   "id": "991b0e76",
   "metadata": {},
   "outputs": [
    {
     "data": {
      "text/plain": [
       "[{'id': 1, 'name': 'Numérique', 'emoji': '💻', 'slug': 'numerique'},\n",
       " {'id': 2, 'name': 'Repas', 'emoji': '🍽', 'slug': 'repas'},\n",
       " {'id': 3, 'name': 'Boisson', 'emoji': '🍹', 'slug': 'boisson'},\n",
       " {'id': 4, 'name': 'Transport', 'emoji': '🚴\\u200d♂️', 'slug': 'transport'},\n",
       " {'id': 5, 'name': 'Habillement', 'emoji': '👔', 'slug': 'habillement'},\n",
       " {'id': 6, 'name': 'Électroménager', 'emoji': '🛁', 'slug': 'electromenager'},\n",
       " {'id': 7, 'name': 'Mobilier', 'emoji': '🪑', 'slug': 'mobilier'},\n",
       " {'id': 8, 'name': 'Chauffage', 'emoji': '🏠', 'slug': 'chauffage'},\n",
       " {'id': 9,\n",
       "  'name': 'Fruits et légumes',\n",
       "  'emoji': '🍅',\n",
       "  'slug': 'fruitsetlegumes'},\n",
       " {'id': 10,\n",
       "  'name': 'Usage numérique',\n",
       "  'emoji': '✉️',\n",
       "  'slug': 'usagenumerique'},\n",
       " {'id': 11, 'name': 'Divers', 'emoji': '⚙️', 'slug': 'divers'}]"
      ]
     },
     "execution_count": 5,
     "metadata": {},
     "output_type": "execute_result"
    }
   ],
   "source": [
    "main_categories = response.json().get(\"data\")\n",
    "main_categories"
   ]
  },
  {
   "cell_type": "code",
   "execution_count": 6,
   "id": "7a304c91",
   "metadata": {},
   "outputs": [
    {
     "name": "stdout",
     "output_type": "stream",
     "text": [
      "💻 Numérique\n",
      "🍽 Repas\n",
      "🍹 Boisson\n",
      "🚴‍♂️ Transport\n",
      "👔 Habillement\n",
      "🛁 Électroménager\n",
      "🪑 Mobilier\n",
      "🏠 Chauffage\n",
      "🍅 Fruits et légumes\n",
      "✉️ Usage numérique\n",
      "⚙️ Divers\n"
     ]
    }
   ],
   "source": [
    "#list categories\n",
    "for main_category in main_categories:\n",
    "    print(\" \".join([main_category.get(\"emoji\",\"\"),main_category.get(\"name\")]))"
   ]
  },
  {
   "cell_type": "markdown",
   "id": "08c8014c",
   "metadata": {},
   "source": [
    "# get CO2 footprint by category"
   ]
  },
  {
   "cell_type": "code",
   "execution_count": 7,
   "id": "6ec13383",
   "metadata": {},
   "outputs": [
    {
     "name": "stdout",
     "output_type": "stream",
     "text": [
      "💻 Numérique\n"
     ]
    },
    {
     "data": {
      "text/plain": [
       "[{'name': 'Smartphone[s]', 'slug': 'smartphone', 'ecv': 37.7857171234219},\n",
       " {'name': 'Ordinateur[s] fixe[s] sans écran',\n",
       "  'slug': 'ordinateurfixebureautique',\n",
       "  'ecv': 188.9721498647794},\n",
       " {'name': 'Ordinateur[s] fixe[s] sans écran',\n",
       "  'slug': 'ordinateurfixeperformance',\n",
       "  'ecv': 394.22839770107805},\n",
       " {'name': 'Écran[s]', 'slug': 'ecran215pouces', 'ecv': 236.4005793417607},\n",
       " {'name': 'Écran[s]', 'slug': 'ecran24pouces', 'ecv': 263.2705793417607},\n",
       " {'name': 'Tablette[s] détachable[s]',\n",
       "  'slug': 'tablettedetachable',\n",
       "  'ecv': 86.28999022039561},\n",
       " {'name': 'Tablette[s]', 'slug': 'tabletteclassique', 'ecv': 69.5837761232212},\n",
       " {'name': 'Tablette[s]', 'slug': 'tablettemini', 'ecv': 47.70156560714469},\n",
       " {'name': 'Chaine[s] hifi', 'slug': 'chainehifi', 'ecv': 136.28218772408428},\n",
       " {'name': 'Liseuse[s]', 'slug': 'liseuse', 'ecv': 36.695156875991344},\n",
       " {'name': 'Télévision[s] ', 'slug': 'television', 'ecv': 425.15349609789376},\n",
       " {'name': 'Ordinateur[s] portable[s]',\n",
       "  'slug': 'ordinateurportable',\n",
       "  'ecv': 177.98764585279912},\n",
       " {'name': 'Montre[s] connectée[s]',\n",
       "  'slug': 'montreconnectee',\n",
       "  'ecv': 9.858212649590849},\n",
       " {'name': 'Cadre[s] photo digital',\n",
       "  'slug': 'cadrephotodigital',\n",
       "  'ecv': 39.15117683893988},\n",
       " {'name': 'Home cinéma', 'slug': 'homecinema', 'ecv': 153.563823982641},\n",
       " {'name': 'Barre[s] de son', 'slug': 'barredeson', 'ecv': 45.45222930043316},\n",
       " {'name': 'Modem[s]', 'slug': 'modemfibre', 'ecv': 142.59172740390866},\n",
       " {'name': 'Enceinte[s] bluetooth',\n",
       "  'slug': 'enceintebluetooth',\n",
       "  'ecv': 9.515179528037962},\n",
       " {'name': 'Console[s] de salon',\n",
       "  'slug': 'consoledesalon',\n",
       "  'ecv': 101.62688532134777},\n",
       " {'name': 'Console[s] portable',\n",
       "  'slug': 'consoleportable',\n",
       "  'ecv': 30.884070899056205},\n",
       " {'name': 'Appareil photo',\n",
       "  'slug': 'appareilphotoreflex',\n",
       "  'ecv': 28.109783588679548},\n",
       " {'name': 'Appareil photo',\n",
       "  'slug': 'appareilphotocompact',\n",
       "  'ecv': 22.341835057281678},\n",
       " {'name': 'Imprimante[s]',\n",
       "  'slug': 'imprimantejetdencre',\n",
       "  'ecv': 108.1411327150618}]"
      ]
     },
     "execution_count": 7,
     "metadata": {},
     "output_type": "execute_result"
    }
   ],
   "source": [
    "url = base_url + \"/thematiques/ecv\"\n",
    "main_category = main_categories[0]\n",
    "print(\" \".join([main_category.get(\"emoji\",\"\"),main_category.get(\"name\")]))\n",
    "response = requests.get(\"/\".join([url, main_category.get(\"slug\")]))\n",
    "data = response.json().get(\"data\", [])\n",
    "data"
   ]
  }
 ],
 "metadata": {
  "kernelspec": {
   "display_name": "Python 3 (ipykernel)",
   "language": "python",
   "name": "python3"
  },
  "language_info": {
   "codemirror_mode": {
    "name": "ipython",
    "version": 3
   },
   "file_extension": ".py",
   "mimetype": "text/x-python",
   "name": "python",
   "nbconvert_exporter": "python",
   "pygments_lexer": "ipython3",
   "version": "3.8.12"
  },
  "toc": {
   "base_numbering": 1,
   "nav_menu": {},
   "number_sections": true,
   "sideBar": true,
   "skip_h1_title": false,
   "title_cell": "Table of Contents",
   "title_sidebar": "Contents",
   "toc_cell": false,
   "toc_position": {},
   "toc_section_display": true,
   "toc_window_display": false
  },
  "varInspector": {
   "cols": {
    "lenName": 16,
    "lenType": 16,
    "lenVar": 40
   },
   "kernels_config": {
    "python": {
     "delete_cmd_postfix": "",
     "delete_cmd_prefix": "del ",
     "library": "var_list.py",
     "varRefreshCmd": "print(var_dic_list())"
    },
    "r": {
     "delete_cmd_postfix": ") ",
     "delete_cmd_prefix": "rm(",
     "library": "var_list.r",
     "varRefreshCmd": "cat(var_dic_list()) "
    }
   },
   "types_to_exclude": [
    "module",
    "function",
    "builtin_function_or_method",
    "instance",
    "_Feature"
   ],
   "window_display": false
  }
 },
 "nbformat": 4,
 "nbformat_minor": 5
}
