{
 "cells": [
  {
   "cell_type": "code",
   "execution_count": 1,
   "id": "1c8a43af",
   "metadata": {},
   "outputs": [],
   "source": [
    "import requests"
   ]
  },
  {
   "cell_type": "code",
   "execution_count": 2,
   "id": "ff4bd7e1",
   "metadata": {},
   "outputs": [],
   "source": [
    "url = \"https://impactco2.fr/api/v1/thematiques\"\n",
    "response = requests.get(url)\n",
    "assert response.status_code == 200"
   ]
  },
  {
   "cell_type": "code",
   "execution_count": 3,
   "id": "427e9c6c",
   "metadata": {},
   "outputs": [
    {
     "data": {
      "text/plain": [
       "{'data': [{'id': 1, 'name': 'Numérique', 'emoji': '💻', 'slug': 'numerique'},\n",
       "  {'id': 2, 'name': 'Repas', 'emoji': '🍽', 'slug': 'repas'},\n",
       "  {'id': 3, 'name': 'Boisson', 'emoji': '🍹', 'slug': 'boisson'},\n",
       "  {'id': 4, 'name': 'Transport', 'emoji': '🚴\\u200d♂️', 'slug': 'transport'},\n",
       "  {'id': 5, 'name': 'Habillement', 'emoji': '👔', 'slug': 'habillement'},\n",
       "  {'id': 6, 'name': 'Électroménager', 'emoji': '🛁', 'slug': 'electromenager'},\n",
       "  {'id': 7, 'name': 'Mobilier', 'emoji': '🪑', 'slug': 'mobilier'},\n",
       "  {'id': 8, 'name': 'Chauffage', 'emoji': '🏠', 'slug': 'chauffage'},\n",
       "  {'id': 9,\n",
       "   'name': 'Fruits et légumes',\n",
       "   'emoji': '🍅',\n",
       "   'slug': 'fruitsetlegumes'},\n",
       "  {'id': 10,\n",
       "   'name': 'Usage numérique',\n",
       "   'emoji': '✉️',\n",
       "   'slug': 'usagenumerique'},\n",
       "  {'id': 11, 'name': 'Divers', 'emoji': '⚙️', 'slug': 'divers'}],\n",
       " 'warning': \"La requete n'est pas authentifée. Nous nous reservons le droit de couper cette API aux utilisateurs anonymes, veuillez nous contacter à impactco2@ademe.fr pour obtenir une clé d'API gratuite.\"}"
      ]
     },
     "execution_count": 3,
     "metadata": {},
     "output_type": "execute_result"
    }
   ],
   "source": [
    "#raw response\n",
    "response.json()"
   ]
  },
  {
   "cell_type": "code",
   "execution_count": 4,
   "id": "39b7c794",
   "metadata": {},
   "outputs": [
    {
     "name": "stdout",
     "output_type": "stream",
     "text": [
      "💻 Numérique\n",
      "🍽 Repas\n",
      "🍹 Boisson\n",
      "🚴‍♂️ Transport\n",
      "👔 Habillement\n",
      "🛁 Électroménager\n",
      "🪑 Mobilier\n",
      "🏠 Chauffage\n",
      "🍅 Fruits et légumes\n",
      "✉️ Usage numérique\n",
      "⚙️ Divers\n"
     ]
    }
   ],
   "source": [
    "#list categories\n",
    "for category in response.json().get(\"data\", []):\n",
    "    print(\" \".join([category.get(\"emoji\",\"\"),category.get(\"name\")]))"
   ]
  }
 ],
 "metadata": {
  "kernelspec": {
   "display_name": "Python 3 (ipykernel)",
   "language": "python",
   "name": "python3"
  },
  "language_info": {
   "codemirror_mode": {
    "name": "ipython",
    "version": 3
   },
   "file_extension": ".py",
   "mimetype": "text/x-python",
   "name": "python",
   "nbconvert_exporter": "python",
   "pygments_lexer": "ipython3",
   "version": "3.8.12"
  },
  "toc": {
   "base_numbering": 1,
   "nav_menu": {},
   "number_sections": true,
   "sideBar": true,
   "skip_h1_title": false,
   "title_cell": "Table of Contents",
   "title_sidebar": "Contents",
   "toc_cell": false,
   "toc_position": {},
   "toc_section_display": true,
   "toc_window_display": false
  },
  "varInspector": {
   "cols": {
    "lenName": 16,
    "lenType": 16,
    "lenVar": 40
   },
   "kernels_config": {
    "python": {
     "delete_cmd_postfix": "",
     "delete_cmd_prefix": "del ",
     "library": "var_list.py",
     "varRefreshCmd": "print(var_dic_list())"
    },
    "r": {
     "delete_cmd_postfix": ") ",
     "delete_cmd_prefix": "rm(",
     "library": "var_list.r",
     "varRefreshCmd": "cat(var_dic_list()) "
    }
   },
   "types_to_exclude": [
    "module",
    "function",
    "builtin_function_or_method",
    "instance",
    "_Feature"
   ],
   "window_display": false
  }
 },
 "nbformat": 4,
 "nbformat_minor": 5
}
