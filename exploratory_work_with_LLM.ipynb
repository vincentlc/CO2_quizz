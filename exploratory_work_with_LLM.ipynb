{
 "cells": [
  {
   "cell_type": "code",
   "execution_count": 1,
   "id": "54d6b92b",
   "metadata": {},
   "outputs": [],
   "source": [
    "import requests"
   ]
  },
  {
   "cell_type": "code",
   "execution_count": 2,
   "id": "5d14ea2e",
   "metadata": {},
   "outputs": [],
   "source": [
    "import secrets"
   ]
  },
  {
   "cell_type": "code",
   "execution_count": 9,
   "id": "76dfbaf8",
   "metadata": {},
   "outputs": [],
   "source": [
    "url = \"https://api-inference.huggingface.co/models/mistralai/Mistral-7B-Instruct-v0.2\"\n",
    "headers = {\"Authorization\": \"Bearer \" + secrets.token}\n",
    "\n",
    "def query(payload):\n",
    "    response = requests.post(url, headers=headers, json=payload)\n",
    "    return response.json()\n",
    "\n",
    "def easy_query(instruction):\n",
    "    text = \"<s>\" + instruction + \"</s>\"\n",
    "    output = query({\"inputs\": text,})\n",
    "    assert len(output) > 0\n",
    "    generated_text = output[0].get(\"generated_text\", text)\n",
    "    return generated_text.split(\"</s>\")[-1].strip()"
   ]
  },
  {
   "cell_type": "code",
   "execution_count": 10,
   "id": "ad99c823",
   "metadata": {},
   "outputs": [
    {
     "name": "stdout",
     "output_type": "stream",
     "text": [
      "I am an artificial intelligence designed to assist with various tasks and answer questions to the best of my ability. I don't have the ability to have experiences or emotions like a living being, but I am programmed to process and analyze information and provide useful responses based on that information. I'm here to help answer questions and provide information to the best of my ability. Is there a specific topic you have in mind that you would like to know more about? I'll do my best to\n"
     ]
    }
   ],
   "source": [
    "text = \"[INST]Tell me about you[/INST]\"\n",
    "\n",
    "response = easy_query(text)\n",
    "print(response)"
   ]
  },
  {
   "cell_type": "code",
   "execution_count": 11,
   "id": "a4cef9f5",
   "metadata": {},
   "outputs": [
    {
     "name": "stdout",
     "output_type": "stream",
     "text": [
      "Which object has the highest carbon footprint, Computer or Screen?\n"
     ]
    }
   ],
   "source": [
    "text = \"\"\"[INST]You are a quizz bot.\n",
    "Your task is to write a question about the carbon footprint of object.\n",
    "You will ask to compare two objects.\n",
    "You will respond with one question.\n",
    "The question will be less than 10 words long.\n",
    "###\n",
    "Here are the objects and their carbon footprint:\n",
    "Smartphone: 37\n",
    "Computer: 188\n",
    "Screen: 236\n",
    "Banana: 3\n",
    "Apple: 2\n",
    "Car: 101\n",
    "Bus: 203\n",
    "Pen: 44\n",
    "Ball: 55\n",
    "Steak: 144\n",
    "Orange: 9\n",
    "Mango: 11\n",
    "###\n",
    "Here are examples:\n",
    "Which has a higher carbon footprint between a smartphone and a computer?\n",
    "Which has the lowest carbon footprint, a banana or an apple?\n",
    "[/INST]\"\"\"\n",
    "\n",
    "response = easy_query(text)\n",
    "print(response)"
   ]
  },
  {
   "cell_type": "code",
   "execution_count": 13,
   "id": "872201b4",
   "metadata": {},
   "outputs": [],
   "source": [
    "user_answer = \"I think it's the computer\""
   ]
  },
  {
   "cell_type": "code",
   "execution_count": 14,
   "id": "937d989d",
   "metadata": {},
   "outputs": [
    {
     "name": "stdout",
     "output_type": "stream",
     "text": [
      "Great answer, user! Computer has higher carbon footprint.\n"
     ]
    }
   ],
   "source": [
    "text = text + response + \"\"\"\n",
    "[INST]\n",
    "The user gave you the following answer:\n",
    "\"\"\" + user_answer + \"\"\"\n",
    "Your task is to check the user's answer based only on the carbon footprints. If it's false, give the correct answer. If it's correct congratulate the user\n",
    "You will respond in less than 10 words.\n",
    "[/INST]\n",
    "\"\"\"\n",
    "\n",
    "response = easy_query(text)\n",
    "print(response)"
   ]
  }
 ],
 "metadata": {
  "kernelspec": {
   "display_name": "Python 3 (ipykernel)",
   "language": "python",
   "name": "python3"
  },
  "language_info": {
   "codemirror_mode": {
    "name": "ipython",
    "version": 3
   },
   "file_extension": ".py",
   "mimetype": "text/x-python",
   "name": "python",
   "nbconvert_exporter": "python",
   "pygments_lexer": "ipython3",
   "version": "3.8.12"
  },
  "toc": {
   "base_numbering": 1,
   "nav_menu": {},
   "number_sections": true,
   "sideBar": true,
   "skip_h1_title": false,
   "title_cell": "Table of Contents",
   "title_sidebar": "Contents",
   "toc_cell": false,
   "toc_position": {},
   "toc_section_display": true,
   "toc_window_display": false
  },
  "varInspector": {
   "cols": {
    "lenName": 16,
    "lenType": 16,
    "lenVar": 40
   },
   "kernels_config": {
    "python": {
     "delete_cmd_postfix": "",
     "delete_cmd_prefix": "del ",
     "library": "var_list.py",
     "varRefreshCmd": "print(var_dic_list())"
    },
    "r": {
     "delete_cmd_postfix": ") ",
     "delete_cmd_prefix": "rm(",
     "library": "var_list.r",
     "varRefreshCmd": "cat(var_dic_list()) "
    }
   },
   "types_to_exclude": [
    "module",
    "function",
    "builtin_function_or_method",
    "instance",
    "_Feature"
   ],
   "window_display": false
  }
 },
 "nbformat": 4,
 "nbformat_minor": 5
}
